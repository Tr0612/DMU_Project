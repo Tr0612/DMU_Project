{
 "cells": [
  {
   "cell_type": "code",
   "execution_count": null,
   "id": "605cd719-629b-4cef-a4c5-22a00068e4d4",
   "metadata": {},
   "outputs": [],
   "source": [
    "import matplotlib as mpl\n",
    "import matplotlib.pyplot as plt\n",
    "import numpy as np\n",
    "import scienceplots"
   ]
  },
  {
   "cell_type": "code",
   "execution_count": null,
   "id": "ba52cf4f-b1ce-451f-b63d-e6bdb437b5b3",
   "metadata": {},
   "outputs": [],
   "source": []
  },
  {
   "cell_type": "code",
   "execution_count": null,
   "id": "9bd4ca2d-3197-4fae-91e2-ad5461f3fd91",
   "metadata": {},
   "outputs": [],
   "source": [
    "plt.style.use(['science', 'ieee'])\n",
    "plt.set_cmap('viridis')\n",
    "plt.plot(nsteps, mt10_success, label=\"Skills Trained Jointly\", color=plt.cm.viridis(0))\n",
    "plt.plot(nsteps, individual_success, label=\"Skills Trained Individually\", color=plt.cm.viridis(0.5))\n",
    "plt.xlabel('Total Number of Environment Steps')\n",
    "plt.ylabel('Rate of Test Successes, Out of 1')\n",
    "plt.xscale('log')\n",
    "plt.legend(bbox_to_anchor=(0.5, -0.3), loc='lower center', ncol=2)\n",
    "plt.savefig('combined-mt10-curve')\n",
    "plt.show()"
   ]
  }
 ],
 "metadata": {
  "kernelspec": {
   "display_name": "Python 3 (ipykernel)",
   "language": "python",
   "name": "python3"
  },
  "language_info": {
   "codemirror_mode": {
    "name": "ipython",
    "version": 3
   },
   "file_extension": ".py",
   "mimetype": "text/x-python",
   "name": "python",
   "nbconvert_exporter": "python",
   "pygments_lexer": "ipython3",
   "version": "3.11.1"
  }
 },
 "nbformat": 4,
 "nbformat_minor": 5
}
